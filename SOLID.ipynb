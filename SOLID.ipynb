{
 "cells": [
  {
   "cell_type": "code",
   "execution_count": 1,
   "id": "834270d3-5b4b-40a6-aa0c-01314078e4fe",
   "metadata": {},
   "outputs": [],
   "source": [
    "from abc import ABC,abstractclassmethod"
   ]
  },
  {
   "cell_type": "markdown",
   "id": "44ce9a1c-c681-4f42-a62c-1f2dad8ce66f",
   "metadata": {},
   "source": [
    "### Interfaces"
   ]
  },
  {
   "cell_type": "code",
   "execution_count": 2,
   "id": "316f94c7-557f-4847-bc38-86c475f3ccb6",
   "metadata": {},
   "outputs": [],
   "source": [
    "class MyInterface(ABC):\n",
    "    @abstractclassmethod\n",
    "    def my_method(self):\n",
    "        pass"
   ]
  },
  {
   "cell_type": "code",
   "execution_count": 3,
   "id": "26623700-7c7e-4624-a96e-888ab1822c02",
   "metadata": {},
   "outputs": [],
   "source": [
    "class MyClass(MyInterface):\n",
    "    def __init__(self):\n",
    "        pass\n",
    "    def my_method(self):\n",
    "        print(\"my_method implementation\")"
   ]
  },
  {
   "cell_type": "code",
   "execution_count": 4,
   "id": "ba6d6cd6-5b29-4323-8c36-09997422d5c2",
   "metadata": {},
   "outputs": [
    {
     "name": "stdout",
     "output_type": "stream",
     "text": [
      "my_method implementation\n"
     ]
    }
   ],
   "source": [
    "my_class = MyClass()\n",
    "my_class.my_method()"
   ]
  },
  {
   "cell_type": "code",
   "execution_count": 5,
   "id": "0a1614eb-132f-40bf-a29c-f3d942410583",
   "metadata": {},
   "outputs": [],
   "source": [
    "def process_my_interface(obj: MyInterface):\n",
    "    obj.my_method()"
   ]
  },
  {
   "cell_type": "code",
   "execution_count": 6,
   "id": "591837d7-cf62-4da1-a2d1-d8dba07519be",
   "metadata": {},
   "outputs": [
    {
     "name": "stdout",
     "output_type": "stream",
     "text": [
      "my_method implementation\n"
     ]
    }
   ],
   "source": [
    "process_my_interface(my_class)"
   ]
  },
  {
   "cell_type": "markdown",
   "id": "6ecd77cb-910b-44e5-924a-3a0f557914bd",
   "metadata": {},
   "source": [
    "### Abstract classes"
   ]
  },
  {
   "cell_type": "code",
   "execution_count": 7,
   "id": "2fbbbe19-c398-4599-9370-542655547ecb",
   "metadata": {},
   "outputs": [],
   "source": [
    "class Shape(ABC):\n",
    "    def __init__(self,color):\n",
    "        self.color = color\n",
    "    @abstractclassmethod\n",
    "    def area(self):\n",
    "        pass\n",
    "    @abstractclassmethod\n",
    "    def perimeter(self):\n",
    "        pass"
   ]
  },
  {
   "cell_type": "code",
   "execution_count": 8,
   "id": "82c6d678-1e27-4af7-931b-d31504aa5c83",
   "metadata": {},
   "outputs": [],
   "source": [
    "class Rectangle(Shape):\n",
    "    def __init__(self, width, height, color):\n",
    "        super().__init__(color)\n",
    "        self.width = width\n",
    "        self.height = height\n",
    "    def area(self):\n",
    "        return self.width * self.height\n",
    "    def perimeter(self):\n",
    "        return 2*(self.width + self.height)"
   ]
  },
  {
   "cell_type": "code",
   "execution_count": 9,
   "id": "531b1fe3-7438-4b49-b12d-fa02bf734281",
   "metadata": {},
   "outputs": [
    {
     "name": "stdout",
     "output_type": "stream",
     "text": [
      "250\n"
     ]
    }
   ],
   "source": [
    "rectangle = Rectangle(10, 25, \"black\")\n",
    "print(rectangle.area())"
   ]
  },
  {
   "cell_type": "markdown",
   "id": "d076d553-1b56-475c-b37b-0a70a186ad58",
   "metadata": {},
   "source": [
    "### Encapsulation"
   ]
  },
  {
   "cell_type": "code",
   "execution_count": 10,
   "id": "0ed1f401-8b6a-4e51-96df-0157fbf389b9",
   "metadata": {},
   "outputs": [],
   "source": [
    "class BankAccount:\n",
    "    def __init__(self,account_number,balance):\n",
    "        self._account_number = account_number  # protected\n",
    "        self.__balance = balance # private"
   ]
  },
  {
   "cell_type": "code",
   "execution_count": 11,
   "id": "dab9bf1e-07a6-42fc-9760-030037562028",
   "metadata": {},
   "outputs": [
    {
     "name": "stdout",
     "output_type": "stream",
     "text": [
      "0001ssee3s2332\n"
     ]
    }
   ],
   "source": [
    "bank_account = BankAccount(\"0001ssee3s2332\", 123465)\n",
    "print(bank_account._account_number) # not recommended\n"
   ]
  },
  {
   "cell_type": "markdown",
   "id": "c1d06269",
   "metadata": {},
   "source": [
    "### Singleton"
   ]
  },
  {
   "cell_type": "markdown",
   "id": "eab372de",
   "metadata": {},
   "source": [
    "#### (not thread-safety)"
   ]
  },
  {
   "cell_type": "code",
   "execution_count": 12,
   "id": "f95b984d",
   "metadata": {},
   "outputs": [],
   "source": [
    "class ClassicSingleton:\n",
    "    # class level variable\n",
    "    _instance = None\n",
    "    # override the method to control initialization\n",
    "    def __init__(self):\n",
    "        raise RunTimeError(\"Call instance()\")\n",
    "    @classmethod\n",
    "    def get_instance(cls): # lazy loading\n",
    "        if not cls._instance:\n",
    "            # create new instance of the class\n",
    "            cls._instance = cls.__new__(cls)\n",
    "        return cls._instance\n",
    "            "
   ]
  },
  {
   "cell_type": "code",
   "execution_count": 13,
   "id": "5eabd1e9",
   "metadata": {},
   "outputs": [],
   "source": [
    "class Singleton:\n",
    "    # class level variable\n",
    "    _instance = None\n",
    "    #override and control how new objects are created\n",
    "    def __new__(cls):\n",
    "        if not cls._instance:\n",
    "            cls._instance = super().__new__(cls)\n",
    "        return cls._instance\n",
    "    "
   ]
  },
  {
   "cell_type": "code",
   "execution_count": 14,
   "id": "23e9dd43",
   "metadata": {},
   "outputs": [],
   "source": [
    "class SingletonMeta(type):\n",
    "    # dictionary stores single instance of the class\n",
    "    _instances = {}\n",
    "    # override: called during creation of sub-types\n",
    "    def  __init__(cls,name,bases,dct):\n",
    "        super().__init__(name,bases,dct)\n",
    "        #eager loading  of the class instance\n",
    "        cls._instances = super().__call__()\n",
    "    # return the singleton instance\n",
    "    def __call__(cls, *args,**kwargs):\n",
    "        return cls._instances[cls]\n",
    "        "
   ]
  },
  {
   "cell_type": "code",
   "execution_count": 15,
   "id": "25ed4574",
   "metadata": {},
   "outputs": [
    {
     "name": "stdout",
     "output_type": "stream",
     "text": [
      "True\n",
      "<__main__.ClassicSingleton object at 0x1059e0610>\n",
      "<__main__.ClassicSingleton object at 0x1059e0610>\n"
     ]
    }
   ],
   "source": [
    "s1 = ClassicSingleton.get_instance()\n",
    "s2 = ClassicSingleton.get_instance()\n",
    "print(s1 is s2)\n",
    "print(s1)\n",
    "print(s2)"
   ]
  },
  {
   "cell_type": "markdown",
   "id": "7f1d133e",
   "metadata": {},
   "source": [
    "## LOGGER"
   ]
  },
  {
   "cell_type": "code",
   "execution_count": 16,
   "id": "8baba665",
   "metadata": {},
   "outputs": [
    {
     "name": "stderr",
     "output_type": "stream",
     "text": [
      "2024-02-03 10:06:46,637 - my_logger - INFO - This is an info message\n",
      "2024-02-03 10:06:46,637 - my_logger - WARNING - This is a warning message\n",
      "2024-02-03 10:06:46,638 - my_logger - ERROR - This is an error message\n",
      "2024-02-03 10:06:46,638 - my_logger - CRITICAL - This is a critical message\n"
     ]
    },
    {
     "name": "stdout",
     "output_type": "stream",
     "text": [
      "<Logger init> initializing logger...\n"
     ]
    }
   ],
   "source": [
    "from abc import ABCMeta, abstractmethod\n",
    "import threading\n",
    "import logging\n",
    "\n",
    "# This is a metaclass for creating singleton classes. Singleton classes allow only one instance.\n",
    "class SingletonMeta(type):\n",
    "    _instances = {}  # Dictionary to hold the instance reference for each class.\n",
    "    _lock = threading.Lock()  # A lock to ensure thread-safe singleton instantiation.\n",
    "\n",
    "    def __call__(cls, *args, **kwargs):\n",
    "        # Acquire the lock to make sure that only one thread can enter this block at a time.\n",
    "        with cls._lock:\n",
    "            # Check if the instance already exists for the class.\n",
    "            if cls not in cls._instances:\n",
    "                # If not, create the instance and store it in the _instances dictionary.\n",
    "                cls._instances[cls] = super().__call__(*args, **kwargs)\n",
    "        # Return the instance.\n",
    "        return cls._instances[cls]\n",
    "\n",
    "# This metaclass combines the features of SingletonMeta and ABCMeta.\n",
    "class SingletonABCMeta(ABCMeta, SingletonMeta):\n",
    "    def __new__(cls, name, bases, namespace):\n",
    "        # Create a new class using the combined metaclasses.\n",
    "        return super().__new__(cls, name, bases, namespace)\n",
    "\n",
    "# BaseLogger is an abstract class with the SingletonABCMeta metaclass.\n",
    "class BaseLogger(metaclass=SingletonABCMeta):\n",
    "    # These methods are abstract, meaning subclasses must implement these methods.\n",
    "    @abstractmethod\n",
    "    def debug(cls, message: str):\n",
    "        pass\n",
    "\n",
    "    @abstractmethod\n",
    "    def info(cls, message: str):\n",
    "        pass\n",
    "\n",
    "    @abstractmethod\n",
    "    def warning(cls, message: str):\n",
    "        pass\n",
    "\n",
    "    @abstractmethod\n",
    "    def error(cls, message: str):\n",
    "        pass\n",
    "\n",
    "    @abstractmethod\n",
    "    def critical(cls, message: str):\n",
    "        pass\n",
    "\n",
    "# MyLogger is a concrete implementation of BaseLogger.\n",
    "class MyLogger(BaseLogger):\n",
    "    def __init__(self):\n",
    "        print('<Logger init> initializing logger...')\n",
    "        # Create a logger object with the specified name.\n",
    "        self._logger = logging.getLogger('my_logger')\n",
    "        # Set the logging level to DEBUG.\n",
    "        self._logger.setLevel(logging.DEBUG)\n",
    "\n",
    "        # Create a file handler to log messages to a file.\n",
    "        file_handler = logging.FileHandler('my_log_file.log')\n",
    "        # Set the file handler logging level to DEBUG.\n",
    "        file_handler.setLevel(logging.DEBUG)\n",
    "\n",
    "        # Create a console handler to log messages to the console.\n",
    "        console_handler = logging.StreamHandler()\n",
    "        # Set the console handler logging level to INFO.\n",
    "        console_handler.setLevel(logging.INFO)\n",
    "\n",
    "        # Define the log message format.\n",
    "        formatter = logging.Formatter('%(asctime)s - %(name)s - %(levelname)s - %(message)s')\n",
    "        # Set the formatter for both the file and console handlers.\n",
    "        file_handler.setFormatter(formatter)\n",
    "        console_handler.setFormatter(formatter)\n",
    "\n",
    "        # Add the file and console handlers to the logger.\n",
    "        self._logger.addHandler(file_handler)\n",
    "        self._logger.addHandler(console_handler)\n",
    "\n",
    "    # Implementations of the abstract methods in BaseLogger.\n",
    "    def debug(self, message: str):\n",
    "        self._logger.debug(message)\n",
    "\n",
    "    def info(self, message: str):\n",
    "        self._logger.info(message)\n",
    "\n",
    "    def warning(self, message: str):\n",
    "        self._logger.warning(message)\n",
    "\n",
    "    def error(self, message: str):\n",
    "        self._logger.error(message)\n",
    "\n",
    "    def critical(self, message: str):\n",
    "        self._logger.critical(message)\n",
    "\n",
    "\n",
    "# Create an instance of MyLogger.\n",
    "logger = MyLogger()\n",
    "# Log different types of messages.\n",
    "logger.debug('This is a debug message')\n",
    "logger.info('This is an info message')\n",
    "logger.warning('This is a warning message')\n",
    "logger.error('This is an error message')\n",
    "logger.critical('This is a critical message')\n"
   ]
  },
  {
   "cell_type": "code",
   "execution_count": null,
   "id": "f64e8115",
   "metadata": {},
   "outputs": [],
   "source": []
  },
  {
   "cell_type": "markdown",
   "id": "dc575bd2",
   "metadata": {},
   "source": [
    "### Factory "
   ]
  },
  {
   "cell_type": "code",
   "execution_count": 40,
   "id": "3c5f3fc1",
   "metadata": {},
   "outputs": [
    {
     "name": "stdout",
     "output_type": "stream",
     "text": [
      "Car\n",
      "Motorcycle\n",
      "Bicycle\n"
     ]
    }
   ],
   "source": [
    "from abc import ABC, abstractmethod\n",
    "from enum import Enum\n",
    "\n",
    "# Step 0: Create an enumeration for vehicle types\n",
    "class VehicleType(Enum):\n",
    "    CAR = \"Car\"\n",
    "    MOTORCYCLE = \"Motorcycle\"\n",
    "    BICYCLE = \"Bicycle\"\n",
    "\n",
    "# Step 1: Create an abstract Vehicle class\n",
    "class Vehicle(ABC):\n",
    "    @abstractmethod\n",
    "    def get_name(self) -> str:\n",
    "        pass\n",
    "\n",
    "# Step 2: Create concrete vehicle classes\n",
    "class Car(Vehicle):\n",
    "    def get_name(self) -> str:\n",
    "        return VehicleType.CAR.value\n",
    "\n",
    "class Motorcycle(Vehicle):\n",
    "    def get_name(self) -> str:\n",
    "        return VehicleType.MOTORCYCLE.value\n",
    "\n",
    "class Bicycle(Vehicle):\n",
    "    def get_name(self) -> str:\n",
    "        return VehicleType.BICYCLE.value\n",
    "\n",
    "# Step 3: Create a VehicleFactory class\n",
    "class VehicleFactory:\n",
    "    def create_vehicle(self, vehicle_type: VehicleType) -> Vehicle:               \n",
    "        if vehicle_type.value == 'Car':\n",
    "            return Car()\n",
    "        elif vehicle_type.value == 'Motorcycle':\n",
    "            return Motorcycle()\n",
    "        else:\n",
    "            return Bicycle()\n",
    "\n",
    "\n",
    "vehicle_factory = VehicleFactory()\n",
    "\n",
    "\n",
    "car = vehicle_factory.create_vehicle(VehicleType.CAR)\n",
    "print(car.get_name())\n",
    "motorcycle = vehicle_factory.create_vehicle(VehicleType.MOTORCYCLE)\n",
    "print(motorcycle.get_name())\n",
    "\n",
    "bicycle = vehicle_factory.create_vehicle(VehicleType.BICYCLE)\n",
    "print(bicycle.get_name())\n",
    "\n"
   ]
  }
 ],
 "metadata": {
  "kernelspec": {
   "display_name": "Python 3 (ipykernel)",
   "language": "python",
   "name": "python3"
  },
  "language_info": {
   "codemirror_mode": {
    "name": "ipython",
    "version": 3
   },
   "file_extension": ".py",
   "mimetype": "text/x-python",
   "name": "python",
   "nbconvert_exporter": "python",
   "pygments_lexer": "ipython3",
   "version": "3.11.5"
  },
  "varInspector": {
   "cols": {
    "lenName": 16,
    "lenType": 16,
    "lenVar": 40
   },
   "kernels_config": {
    "python": {
     "delete_cmd_postfix": "",
     "delete_cmd_prefix": "del ",
     "library": "var_list.py",
     "varRefreshCmd": "print(var_dic_list())"
    },
    "r": {
     "delete_cmd_postfix": ") ",
     "delete_cmd_prefix": "rm(",
     "library": "var_list.r",
     "varRefreshCmd": "cat(var_dic_list()) "
    }
   },
   "types_to_exclude": [
    "module",
    "function",
    "builtin_function_or_method",
    "instance",
    "_Feature"
   ],
   "window_display": false
  }
 },
 "nbformat": 4,
 "nbformat_minor": 5
}
